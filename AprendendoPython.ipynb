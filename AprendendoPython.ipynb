{
  "nbformat": 4,
  "nbformat_minor": 0,
  "metadata": {
    "colab": {
      "provenance": [],
      "authorship_tag": "ABX9TyMwiOKqf2jVg+NGzZs9OpFt",
      "include_colab_link": true
    },
    "kernelspec": {
      "name": "python3",
      "display_name": "Python 3"
    },
    "language_info": {
      "name": "python"
    }
  },
  "cells": [
    {
      "cell_type": "markdown",
      "metadata": {
        "id": "view-in-github",
        "colab_type": "text"
      },
      "source": [
        "<a href=\"https://colab.research.google.com/github/GustavoNovaes01/Ola-Mundo/blob/main/AprendendoPython.ipynb\" target=\"_parent\"><img src=\"https://colab.research.google.com/assets/colab-badge.svg\" alt=\"Open In Colab\"/></a>"
      ]
    },
    {
      "cell_type": "code",
      "execution_count": 9,
      "metadata": {
        "colab": {
          "base_uri": "https://localhost:8080/"
        },
        "id": "lsf-R8sn_XoI",
        "outputId": "0be77ea5-41ca-418c-e492-89c84f90de96"
      },
      "outputs": [
        {
          "output_type": "stream",
          "name": "stdout",
          "text": [
            "8\n"
          ]
        }
      ],
      "source": [
        "resultado = 5 + 3\n",
        "print(resultado)\n"
      ]
    },
    {
      "cell_type": "code",
      "source": [
        "nome = input(\"Qual é o seu nome? \")\n",
        "print(\"Olá,\", nome, \"! Prazer em te conhecer!\")"
      ],
      "metadata": {
        "colab": {
          "base_uri": "https://localhost:8080/"
        },
        "id": "2eHdnrTWAn8z",
        "outputId": "c9bc7fa7-4623-4684-e3ab-0bef14e728da"
      },
      "execution_count": 10,
      "outputs": [
        {
          "output_type": "stream",
          "name": "stdout",
          "text": [
            "Qual é o seu nome? Gustavo\n",
            "Olá, Gustavo ! Prazer em te conhecer!\n"
          ]
        }
      ]
    },
    {
      "cell_type": "code",
      "source": [
        "numero1 = 5\n",
        "numero2 = 5.6485\n",
        "\n",
        "soma = numero1 + numero2\n",
        "subtracao = numero1 - numero2\n",
        "multiplicacao = numero1 * numero2\n",
        "divisao = numero1 / numero2\n",
        "divisao_inteira = numero1 // numero2 # Retorna apenas a parte inteira da divisão\n",
        "resto_divisao = numero1 % numero2   # Retorna o resto da divisão\n",
        "potencia = numero1 ** numero2       # Eleva numero1 à potência de numero2\n",
        "\n",
        "print(\"Soma:\", soma)\n",
        "print(\"Subtração:\", subtracao)\n",
        "print(\"Multiplicação:\", multiplicacao)\n",
        "print(\"Divisão:\", divisao)\n",
        "print(\"Divisão Inteira:\", divisao_inteira)\n",
        "print(\"Resto da Divisão:\", resto_divisao)\n",
        "print(\"Potência:\", potencia)"
      ],
      "metadata": {
        "colab": {
          "base_uri": "https://localhost:8080/"
        },
        "id": "7YMjikyMBbE9",
        "outputId": "90830a2f-01cc-4a70-a861-da2d2db05633"
      },
      "execution_count": 13,
      "outputs": [
        {
          "output_type": "stream",
          "name": "stdout",
          "text": [
            "Soma: 10.6485\n",
            "Subtração: -0.6485000000000003\n",
            "Multiplicação: 28.2425\n",
            "Divisão: 0.8851907586084801\n",
            "Divisão Inteira: 0.0\n",
            "Resto da Divisão: 5.0\n",
            "Potência: 8874.258383095945\n"
          ]
        }
      ]
    },
    {
      "cell_type": "code",
      "source": [
        "idade = int(input(\"Digite sua idade: \"))\n",
        "\n",
        "if idade >= 18:\n",
        "    print(\"Você é maior de idade.\")\n",
        "else:\n",
        "    print(\"Você é menor de idade.\")\n",
        "\n",
        "print(\"Fim da verificação.\")\n"
      ],
      "metadata": {
        "colab": {
          "base_uri": "https://localhost:8080/"
        },
        "id": "kqjewup8Ef3N",
        "outputId": "6f973a0c-4b84-40c7-ee7e-280920dac491"
      },
      "execution_count": 14,
      "outputs": [
        {
          "output_type": "stream",
          "name": "stdout",
          "text": [
            "Digite sua idade: 42\n",
            "Você é maior de idade.\n",
            "Fim da verificação.\n"
          ]
        }
      ]
    },
    {
      "cell_type": "code",
      "source": [
        "frutas = [\"maçã\", \"banana\", \"laranja\"]\n",
        "\n",
        "for fruta in frutas:\n",
        "    print(\"Eu gosto de\", fruta)"
      ],
      "metadata": {
        "colab": {
          "base_uri": "https://localhost:8080/"
        },
        "id": "keDK4KMAEyfp",
        "outputId": "840b7d8c-8d8c-4240-aff3-44df8088cdce"
      },
      "execution_count": 15,
      "outputs": [
        {
          "output_type": "stream",
          "name": "stdout",
          "text": [
            "Eu gosto de maçã\n",
            "Eu gosto de banana\n",
            "Eu gosto de laranja\n"
          ]
        }
      ]
    },
    {
      "cell_type": "code",
      "source": [
        "carros = [\"Volkswagen\", \"Ford\", \"Crevrolet\"]\n",
        "\n",
        "for carro in carros:\n",
        "    print(\"Eu gosto de\", carro)"
      ],
      "metadata": {
        "colab": {
          "base_uri": "https://localhost:8080/"
        },
        "id": "nF0IpT9gASl1",
        "outputId": "6e727c59-2b33-4658-e30f-888f8a90d674"
      },
      "execution_count": 17,
      "outputs": [
        {
          "output_type": "stream",
          "name": "stdout",
          "text": [
            "Eu gosto de Volkswagen\n",
            "Eu gosto de Ford\n",
            "Eu gosto de Crevrolet\n"
          ]
        }
      ]
    },
    {
      "cell_type": "code",
      "source": [
        "Sexo = int(input(\"Digite seu sexo: \"))\n",
        "\n",
        "if Sexo == 1:\n",
        "    print(\"Você é do sexo masculino.\")\n",
        "else:\n",
        "    print(\"Você é do sexo feminino.\")\n",
        "\n",
        "print(\"Fim da verificação.\")\n",
        "print(\"Você é do sexo feminino.\")\n",
        "\n",
        "print(\"Fim da verificação.\")"
      ],
      "metadata": {
        "colab": {
          "base_uri": "https://localhost:8080/"
        },
        "id": "_CYyRODQFkma",
        "outputId": "51e31338-af90-4d7b-d432-a9a7f34e04d2"
      },
      "execution_count": 21,
      "outputs": [
        {
          "output_type": "stream",
          "name": "stdout",
          "text": [
            "Digite seu sexo: 1\n",
            "Você é do sexo masculino.\n",
            "Fim da verificação.\n",
            "Você é do sexo feminino.\n",
            "Fim da verificação.\n"
          ]
        }
      ]
    },
    {
      "cell_type": "code",
      "source": [
        "def saudacao(nome):\n",
        "    print(\"Olá,\", nome, \"! Seja bem-vindo(a)!\")\n",
        "\n",
        "saudacao(\"Felipe\")\n",
        "saudacao(\"Manoel\")"
      ],
      "metadata": {
        "colab": {
          "base_uri": "https://localhost:8080/"
        },
        "id": "ojRAKVKnHQj3",
        "outputId": "03d13bf3-a528-403a-84e2-68c671594b7f"
      },
      "execution_count": 23,
      "outputs": [
        {
          "output_type": "stream",
          "name": "stdout",
          "text": [
            "Olá, Felipe ! Seja bem-vindo(a)!\n",
            "Olá, Manoel ! Seja bem-vindo(a)!\n"
          ]
        }
      ]
    },
    {
      "cell_type": "code",
      "source": [
        "nome = input(\"Digite seu nome: \")\n",
        "print(\"Olá,\", nome, \"! É ótimo ter você aqui!\")"
      ],
      "metadata": {
        "colab": {
          "base_uri": "https://localhost:8080/"
        },
        "id": "_lJrT71pICBE",
        "outputId": "b31f4f3f-c9ec-41ec-f8d1-dca90d2dba02"
      },
      "execution_count": 24,
      "outputs": [
        {
          "output_type": "stream",
          "name": "stdout",
          "text": [
            "Digite seu nome: Helena\n",
            "Olá, Helena ! É ótimo ter você aqui!\n"
          ]
        }
      ]
    },
    {
      "cell_type": "code",
      "source": [
        "nome = input(\"Digite seu nome: \")\n",
        "print(\"Olá,\", nome, \"Você torce para que time?\")\n",
        "time = input(\"Digite o nome do seu time: \")\n",
        "print(\"Ótimo! Você torce para o\", time)\n",
        "dia = input(\"Digite o dia do jogo; \")\n",
        "print(\"Você vai ao jogo no dia\", dia,\"?\")\n",
        "restaurante = input(\"Digite o nome do restaurante: \")\n",
        "print(\"Ótimo! Você vai ao \", restaurante, \"depois do jogo?\")"
      ],
      "metadata": {
        "colab": {
          "base_uri": "https://localhost:8080/"
        },
        "id": "HIXTuZ69JkmJ",
        "outputId": "e6507513-c9d6-43a6-80e7-0f645c87e486"
      },
      "execution_count": 43,
      "outputs": [
        {
          "output_type": "stream",
          "name": "stdout",
          "text": [
            "Digite seu nome: Gustavo\n",
            "Olá, Gustavo Você torce para que time?\n",
            "Digite o nome do seu time: Corinthians\n",
            "Ótimo! Você torce para o Corinthians\n",
            "Digite o dia do jogo; 20\n",
            "Você vai ao jogo no dia 20 ?\n",
            "Digite o nome do restaurante: Bob's\n",
            "Ótimo! Você vai ao  Bob's depois do jogo?\n"
          ]
        }
      ]
    },
    {
      "cell_type": "code",
      "source": [
        "numero = input(\"Digite um número: \")\n",
        "numero = int(numero)\n",
        "numero2 = input(\"Digite outro número: \")\n",
        "numero2 = int(numero2)\n",
        "subtracao = numero - numero2\n",
        "print(subtracao)"
      ],
      "metadata": {
        "colab": {
          "base_uri": "https://localhost:8080/"
        },
        "id": "yj_AyXWTQb3v",
        "outputId": "5ab73649-f31f-4bda-a9f7-fd2e075d374b"
      },
      "execution_count": 39,
      "outputs": [
        {
          "output_type": "stream",
          "name": "stdout",
          "text": [
            "Digite um número: 6\n",
            "Digite outro número: 9\n",
            "-3\n"
          ]
        }
      ]
    },
    {
      "cell_type": "code",
      "source": [
        "entrada_usuario = input(\"Por favor digite algo: \")\n",
        "tipo_da_entrada = type(entrada_usuario)\n",
        "print(f\"O tipo da entrada é: {tipo_da_entrada}\")\n"
      ],
      "metadata": {
        "colab": {
          "base_uri": "https://localhost:8080/"
        },
        "id": "F6e-yALtn0dA",
        "outputId": "bebbdafa-a961-4ddc-cd08-af714d03b9ee"
      },
      "execution_count": 42,
      "outputs": [
        {
          "output_type": "stream",
          "name": "stdout",
          "text": [
            "Por favor digite algo: 9\n",
            "O tipo da entrada é: <class 'str'>\n"
          ]
        }
      ]
    },
    {
      "cell_type": "code",
      "source": [
        "Temperatura = input (\"Digite a temperatura \")\n",
        "try:\n",
        "  Celsius = float(Temperatura)\n",
        "except ValueError:\n",
        "  print(\"Por favor, digite um número válido.\")\n",
        "  exit()\n",
        "fahrenheit = (Celsius * 9/5) + 32\n",
        "print(f\"{Celsius} graus Celsius é igual a {fahrenheit} graus Fahrenheit.\")"
      ],
      "metadata": {
        "colab": {
          "base_uri": "https://localhost:8080/"
        },
        "id": "xqHHLlRFuTHR",
        "outputId": "afcb5c55-2491-4f54-8c8e-e99a65df31c4"
      },
      "execution_count": 51,
      "outputs": [
        {
          "output_type": "stream",
          "name": "stdout",
          "text": [
            "Digite a temperatura 20\n",
            "20.0 graus Celsius é igual a 68.0 graus Fahrenheit.\n"
          ]
        }
      ]
    },
    {
      "cell_type": "code",
      "source": [
        "res1 = (\"*\")\n",
        "print(res1)\n",
        "res2 = (\"*\") * 2\n",
        "print(res2)\n",
        "res3 = (\"*\") * 3\n",
        "print(res3)\n",
        "res4 = (\"*\") * 4\n",
        "print(res4)"
      ],
      "metadata": {
        "colab": {
          "base_uri": "https://localhost:8080/"
        },
        "id": "fvUHy0HCydE2",
        "outputId": "965a4b5a-4819-4f87-e988-d79df8b236cb"
      },
      "execution_count": 56,
      "outputs": [
        {
          "output_type": "stream",
          "name": "stdout",
          "text": [
            "*\n",
            "**\n",
            "***\n",
            "****\n"
          ]
        }
      ]
    },
    {
      "cell_type": "code",
      "source": [
        "numero = input(\"Digite um número: \")\n",
        "numero = float(numero)\n",
        "numero2 = input(\"Digite outro número: \")\n",
        "numero2 = float(numero2)\n",
        "media = (numero + numero2)/2\n",
        "print(media)"
      ],
      "metadata": {
        "colab": {
          "base_uri": "https://localhost:8080/"
        },
        "id": "PnIWDN9n3qzS",
        "outputId": "37d54861-00af-439d-ca78-bdf732aab117"
      },
      "execution_count": 60,
      "outputs": [
        {
          "output_type": "stream",
          "name": "stdout",
          "text": [
            "Digite um número: 6\n",
            "Digite outro número: 9\n",
            "7.5\n"
          ]
        }
      ]
    },
    {
      "cell_type": "code",
      "source": [
        "nome = input(\"digite seu nome \")\n",
        "print (nome)\n",
        "idade  = int(input(\"digite sua idade \"))\n",
        "print(idade)\n",
        "cidade = input(\"digite sua cidade \")\n",
        "print(cidade)\n",
        "print(\"Olá\", nome, \"você tem\", idade, \"anos e mora em\", cidade)\n"
      ],
      "metadata": {
        "colab": {
          "base_uri": "https://localhost:8080/"
        },
        "id": "tqIE-oUj7NkE",
        "outputId": "989cf137-c717-4001-8c1f-3d0c39f3a370"
      },
      "execution_count": 64,
      "outputs": [
        {
          "output_type": "stream",
          "name": "stdout",
          "text": [
            "digite seu nome gustavo\n",
            "gustavo\n",
            "digite sua idade42\n",
            "42\n",
            "digite sua cidadeSão Paulo\n",
            "São Paulo\n",
            "Olá gustavo você tem 42 anos e mora em São Paulo\n"
          ]
        }
      ]
    },
    {
      "cell_type": "code",
      "source": [
        "a = 5\n",
        "b = 10\n",
        "print(f\"Valores de 'a' e 'b' antes da troca: a = {a}, b = {b}\")\n",
        "temp = a\n",
        "a = b\n",
        "b = temp\n",
        "print(f\"Valores de 'a' e 'b' depois da troca: a = {a}, b = {b}\")\n"
      ],
      "metadata": {
        "colab": {
          "base_uri": "https://localhost:8080/"
        },
        "id": "8UQiY7YRBI9I",
        "outputId": "3a1c8471-cbca-4261-f1f6-9d9356e1668b"
      },
      "execution_count": 66,
      "outputs": [
        {
          "output_type": "stream",
          "name": "stdout",
          "text": [
            "Valores de 'a' e 'b' antes da troca: a = 5, b = 10\n",
            "Valores de 'a' e 'b' depois da troca: a = 10, b = 5\n"
          ]
        }
      ]
    },
    {
      "cell_type": "code",
      "source": [
        "# Passo 1: Definir a taxa de câmbio fixa\n",
        "taxa_dolar = 5.65\n",
        "\n",
        "# Passo 2: Pedir ao usuário para digitar o valor em Reais\n",
        "while True:\n",
        "    try:\n",
        "        valor_real_str = input(\"Digite o valor em Reais (R$): \")\n",
        "        valor_real = float(valor_real_str)\n",
        "        break  # Sai do loop se a entrada for válida\n",
        "    except ValueError:\n",
        "        print(\"Entrada inválida. Por favor, digite um número.\")\n",
        "\n",
        "# Passo 3: Calcular o valor equivalente em Dólares\n",
        "valor_dolar = valor_real / taxa_dolar\n",
        "\n",
        "# Passo 4: Exibir o resultado\n",
        "print(f\"{valor_real} R$ equivalem a {valor_dolar:.2f} USD (com taxa de câmbio de {taxa_dolar})\")"
      ],
      "metadata": {
        "colab": {
          "base_uri": "https://localhost:8080/"
        },
        "id": "tQVd8Zw3EhZn",
        "outputId": "a845884b-361d-4b53-f25f-b54c5b69ec98"
      },
      "execution_count": 68,
      "outputs": [
        {
          "output_type": "stream",
          "name": "stdout",
          "text": [
            "Digite o valor em Reais (R$): 500\n",
            "500.0 R$ equivalem a 88.50 USD (com taxa de câmbio de 5.65)\n"
          ]
        }
      ]
    }
  ]
}